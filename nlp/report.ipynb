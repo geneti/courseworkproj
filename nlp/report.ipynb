{
 "cells": [
  {
   "cell_type": "markdown",
   "metadata": {},
   "source": [
    "# Project Report "
   ]
  },
  {
   "cell_type": "markdown",
   "metadata": {},
   "source": [
    "#### Project Description \n",
    "\n",
    "- The project is about text sentiment classification on Tweet about Coronavirus during 3.13-3.16 this year.\n",
    "\n",
    "- This part will do the prepocessing and clean of the raw data\n"
   ]
  },
  {
   "cell_type": "markdown",
   "metadata": {},
   "source": [
    "### Part 1: Data Collection"
   ]
  },
  {
   "cell_type": "markdown",
   "metadata": {},
   "source": [
    "#### Dataset source\n",
    "\n",
    "- The dataset is collected by Aman Miglani posted on Kaggle. And the url is https://www.kaggle.com/datatattle/covid-19-nlp-text-classification\n",
    "\n",
    "- There are about 45000 Tweets from different users around the world and with 5 labels: extremly positive, positive, neutral, negative and extremely negative."
   ]
  },
  {
   "cell_type": "markdown",
   "metadata": {},
   "source": [
    "The very first step is always loading data while do some basic cleaning."
   ]
  },
  {
   "cell_type": "code",
   "execution_count": 1,
   "metadata": {},
   "outputs": [],
   "source": [
    "import re\n",
    "\n",
    "def clean(string):\n",
    "    string = re.sub(r'[^\\x00-\\x7F]+','', string).lower()\n",
    "    string = re.sub(r'(\\n|\\t|\\r)+','', string)\n",
    "    return string"
   ]
  },
  {
   "cell_type": "code",
   "execution_count": 2,
   "metadata": {},
   "outputs": [
    {
     "name": "stdout",
     "output_type": "stream",
     "text": [
      "The input shape is : (41157, 5)\n",
      "The total number of sentences is 45151\n",
      "Bag of words length (very_pos to very_neg):  8856 , 12439 , 6639 , 10528 , 6689\n"
     ]
    }
   ],
   "source": [
    "import pandas as pd\n",
    "import csv\n",
    "import nltk\n",
    "\n",
    "def load_data_direct(filename, tweet_idx, sentiment_idx, is_index_col = False):\n",
    "    # print('Begin loading data')\n",
    "    \n",
    "    very_pos, pos, neutral, neg, very_neg = '','','','',''\n",
    "    if is_index_col:\n",
    "        data = pd.read_csv(filename, index_col=0, encoding=\"ISO-8859-1\", dtype=object)\n",
    "    else:\n",
    "        data = pd.read_csv(filename, encoding=\"ISO-8859-1\", dtype=object)\n",
    "    print(\"The input shape is :\", data.shape)\n",
    "    for r in range(data.shape[0]):\n",
    "        if data.iloc[r, sentiment_idx] == 'Extremely Positive':\n",
    "            very_pos += data.iloc[r, tweet_idx]\n",
    "        elif data.iloc[r, sentiment_idx] == 'Positive':\n",
    "            pos += data.iloc[r, tweet_idx]\n",
    "        elif data.iloc[r, sentiment_idx] == 'Neutral':\n",
    "            neutral += data.iloc[r, tweet_idx]\n",
    "        elif data.iloc[r, sentiment_idx] == 'Negative':\n",
    "            neg += data.iloc[r, tweet_idx]\n",
    "        elif data.iloc[r, sentiment_idx] == 'Extremely Negative':\n",
    "            very_neg += data.iloc[r, tweet_idx]\n",
    "        else:\n",
    "            print('Error Label, please check data')\n",
    "\n",
    "    vp = nltk.sent_tokenize(clean(very_pos))\n",
    "    ps = nltk.sent_tokenize(clean(pos))\n",
    "    nl = nltk.sent_tokenize(clean(neutral))\n",
    "    na = nltk.sent_tokenize(clean(neg))\n",
    "    vn = nltk.sent_tokenize(clean(very_neg))\n",
    "\n",
    "    return vp, ps, nl, na, vn\n",
    "\n",
    "# load and separate data from csv\n",
    "very_pos, pos, neutral, neg, very_neg = load_data_direct(\n",
    "        './twitter_sentiment/Corona_NLP_train.csv', 3, 4, True)\n",
    "sentences_size = len(very_pos)+len(pos)+len(neutral)+len(neg)+len(very_neg)\n",
    "print(f\"The total number of sentences is {sentences_size}\")\n",
    "print('Bag of words length (very_pos to very_neg): ', len(very_pos), ',', len(pos), ',',\n",
    "          len(neutral), ',', len(neg), ',', len(very_neg))"
   ]
  },
  {
   "cell_type": "code",
   "execution_count": 3,
   "metadata": {},
   "outputs": [
    {
     "name": "stdout",
     "output_type": "stream",
     "text": [
      "--------------------------------------------------------------------------------\n",
      "Bag of words representation for ngrams range:  (1, 1)\n",
      "Yields a array, X of size: 45151 sentences x 93373 tokens\n",
      "--------------------------------------------------------------------------------\n",
      "Bag of words representation for ngrams range:  (1, 2)\n",
      "Yields a array, X of size: 45151 sentences x 582150 tokens\n"
     ]
    }
   ],
   "source": [
    "from sklearn.feature_extraction.text import CountVectorizer\n",
    "import numpy as np\n",
    "\n",
    "\n",
    "def get_bag_of_words(ngram_range):\n",
    "    print('Bag of words representation for ngrams range: ',ngram_range)\n",
    "    vectorizer = CountVectorizer(ngram_range=ngram_range)\n",
    "    X = vectorizer.fit_transform(very_pos + pos + neutral + neg + very_neg)\n",
    "    X = X.toarray()\n",
    "    y = np.asarray([1 for i in range(0, len(very_pos))] + [2 for i in range(0, len(pos))] + [3 for i in range(0, len(neutral))] + [\n",
    "            4 for i in range(0, len(neg))] + [5 for i in range(0, len(very_neg))])\n",
    "    return X, y\n",
    "\n",
    "print('--------------------------------------------------------------------------------')  \n",
    "X_1, y_1 = get_bag_of_words((1,1))\n",
    "print('Yields a array, X of size:', np.size(X_1, 0), 'sentences x', np.size(X_1, 1), 'tokens')\n",
    "\n",
    "print('--------------------------------------------------------------------------------')\n",
    "X_2, y_2 = get_bag_of_words((1,2))\n",
    "print('Yields a array, X of size:', np.size(X_2, 0), 'sentences x', np.size(X_2, 1), 'tokens')\n"
   ]
  },
  {
   "cell_type": "markdown",
   "metadata": {},
   "source": [
    "#### Analysis\n",
    "\n",
    "- From the above bag of unigram words, we can see there are 93373 tokens for unigrams while 582150 tokens for bigram. So it will take more time to build a language model on bigrams."
   ]
  },
  {
   "cell_type": "markdown",
   "metadata": {},
   "source": [
    "#### Split csv into batches and save in json format"
   ]
  },
  {
   "cell_type": "markdown",
   "metadata": {},
   "source": [
    "One important thing is that we need to merge multiple lines for one single tweet, so you can see that the final index is $41158$ but not $44955$."
   ]
  },
  {
   "cell_type": "code",
   "execution_count": 4,
   "metadata": {},
   "outputs": [
    {
     "name": "stderr",
     "output_type": "stream",
     "text": [
      "/Users/liuchang/Downloads/nlp2020/liucha39/Project/Part4/twitter_sentiment/LOAD.py:43: SettingWithCopyWarning: \n",
      "A value is trying to be set on a copy of a slice from a DataFrame.\n",
      "Try using .loc[row_indexer,col_indexer] = value instead\n",
      "\n",
      "See the caveats in the documentation: https://pandas.pydata.org/pandas-docs/stable/user_guide/indexing.html#returning-a-view-versus-a-copy\n",
      "  compress_data['OriginalTweet'] = compress_data['OriginalTweet'].str.replace('\\s+',' ')\n",
      "/Users/liuchang/Downloads/nlp2020/liucha39/Project/Part4/twitter_sentiment/LOAD.py:44: SettingWithCopyWarning: \n",
      "A value is trying to be set on a copy of a slice from a DataFrame.\n",
      "Try using .loc[row_indexer,col_indexer] = value instead\n",
      "\n",
      "See the caveats in the documentation: https://pandas.pydata.org/pandas-docs/stable/user_guide/indexing.html#returning-a-view-versus-a-copy\n",
      "  compress_data['Sentiment'] = compress_data['Sentiment'].str.replace('\\s+',' ')\n"
     ]
    },
    {
     "name": "stdout",
     "output_type": "stream",
     "text": [
      "The shape of dataframe after compress is: (41157, 2)\n",
      "Saving compress data\n",
      "Processed Batch 0 :  10001 / 41158 Lines\n",
      "Processed Batch 1 :  20001 / 41158 Lines\n",
      "Processed Batch 2 :  30001 / 41158 Lines\n",
      "Processed Batch 3 :  40001 / 41158 Lines\n",
      "Processed Batch 4 :  41158 / 41158 Lines\n"
     ]
    }
   ],
   "source": [
    "from twitter_sentiment import LOAD, utils\n",
    "import importlib\n",
    "importlib.reload(utils)\n",
    "importlib.reload(LOAD)\n",
    "\n",
    "\n",
    "LOAD.compress_csv('twitter_sentiment/Corona_NLP_train.csv', 'twitter_sentiment/compress_train.csv')\n",
    "\n",
    "utils.csvToJsonl(source_file      = 'twitter_sentiment/compress_train.csv', \n",
    "                 destination_file = 'twitter_sentiment/re_reviews.jsonl', \n",
    "                 batch_size       = 10000, \n",
    "                 verbose          = True)"
   ]
  },
  {
   "cell_type": "markdown",
   "metadata": {},
   "source": [
    "#### split train, valid and test set"
   ]
  },
  {
   "cell_type": "code",
   "execution_count": 5,
   "metadata": {},
   "outputs": [
    {
     "name": "stdout",
     "output_type": "stream",
     "text": [
      "Initializing:  twitter_sentiment/train_re_reviews.jsonl\n",
      "Initializing:  twitter_sentiment/validation_re_reviews.jsonl\n",
      "Initializing:  twitter_sentiment/test_re_reviews.jsonl\n",
      "Processed Batch 1 :  10000 / 41157 Lines\n",
      "Processed Batch 2 :  20000 / 41157 Lines\n",
      "Processed Batch 3 :  30000 / 41157 Lines\n",
      "Processed Batch 4 :  40000 / 41157 Lines\n",
      "Processed Batch 5 :  41157 / 41157 Lines\n"
     ]
    }
   ],
   "source": [
    "importlib.reload(utils)\n",
    "utils.splitFile( file       = 'twitter_sentiment/re_reviews.jsonl',\n",
    "                 splits     = {'train'     :{'percentage':60},\n",
    "                               'validation':{'percentage':20},\n",
    "                               'test'      :{'percentage':20}},\n",
    "                batch_size  = 10000,\n",
    "                random_seed = 99,\n",
    "                verbose     = True\n",
    "               )"
   ]
  },
  {
   "cell_type": "markdown",
   "metadata": {},
   "source": [
    "Now, let's reload the 5 classes of data after compresssion of the original table."
   ]
  },
  {
   "cell_type": "code",
   "execution_count": 6,
   "metadata": {},
   "outputs": [
    {
     "name": "stdout",
     "output_type": "stream",
     "text": [
      "The input shape is : (41157, 2)\n",
      "The total number of sentences is 52088\n",
      "Bag of words length (very_pos to very_neg):  10208 , 14343 , 7728 , 12083 , 7726\n"
     ]
    }
   ],
   "source": [
    "# load and separate data from csv\n",
    "very_pos, pos, neutral, neg, very_neg = load_data_direct(\n",
    "        'twitter_sentiment/compress_train.csv', 0, 1)\n",
    "\n",
    "sentences_size = len(very_pos)+len(pos)+len(neutral)+len(neg)+len(very_neg)\n",
    "print(f\"The total number of sentences is {sentences_size}\")\n",
    "\n",
    "print('Bag of words length (very_pos to very_neg): ', len(very_pos), ',', len(pos), ',',\n",
    "          len(neutral), ',', len(neg), ',', len(very_neg))"
   ]
  },
  {
   "cell_type": "markdown",
   "metadata": {},
   "source": [
    "#### Word2Vec Embedding"
   ]
  },
  {
   "cell_type": "code",
   "execution_count": 7,
   "metadata": {},
   "outputs": [
    {
     "name": "stdout",
     "output_type": "stream",
     "text": [
      "the sentences numbers are:  52088\n",
      "The vocabulary of the corpus is:  (97538,)\n",
      "The Word2Vec vectors shape is:  (97538, 50)\n"
     ]
    }
   ],
   "source": [
    "import gensim\n",
    "from gensim.models import word2vec\n",
    "\n",
    "def sentences2words(sentences):\n",
    "    se = []\n",
    "    for i, sentence in enumerate(sentences):\n",
    "        se.append(nltk.word_tokenize(sentence))\n",
    "    return se\n",
    "\n",
    "vp = sentences2words(very_pos)\n",
    "ps = sentences2words(pos)\n",
    "nl = sentences2words(neutral)\n",
    "na = sentences2words(neg)\n",
    "vn = sentences2words(very_neg)\n",
    "\n",
    "all_text_words = vp+ps+nl+na+vn\n",
    "\n",
    "all_text_sentences = very_pos + pos + neutral + neg + very_neg\n",
    "print(\"the sentences numbers are: \", len(all_text_sentences))\n",
    "\n",
    "\n",
    "model = word2vec.Word2Vec(all_text_words, \n",
    "                          sg             = 1,     # Defines the training algorithm. By default (sg=0), CBOW is used. Otherwise (sg=1), skip-gram is employed.\n",
    "                          min_count      = 1,     # min_count says to ignore all words with total frequency lower than this.\n",
    "                          size           = 50,     # number of features\n",
    "                          window         = 2,     # window is the maximum distance between the current and predicted word within a sentence.\n",
    "                          sorted_vocab   = 1,     # if 1 (default), sort the vocabulary by descending frequency before assigning word indexes.\n",
    "                          negative       = 5,     # if > 0, negative sampling will be used, the int for negative specifies how many “noise words” should be drawn (usually between 5-20). # Default is 5. If set to 0, no negative samping is used.\n",
    "                          max_vocab_size = None   # limit RAM during vocabulary building; if there are more unique words than this, then prune the infrequent ones. # Every 10 million word types need about 1GB of RAM. Set to None for no limit (default).\n",
    "                         )\n",
    "\n",
    "Vocab   = np.array(model.wv.index2word)\n",
    "Vectors      = np.array(model.wv.vectors.tolist())\n",
    "\n",
    "print('The vocabulary of the corpus is: ', np.shape(Vocab))\n",
    "print('The Word2Vec vectors shape is: ', np.shape(Vectors))"
   ]
  },
  {
   "cell_type": "markdown",
   "metadata": {},
   "source": [
    "### Part 2: Data Preprocessing"
   ]
  },
  {
   "cell_type": "markdown",
   "metadata": {},
   "source": [
    "#### PCA Feature Reduction"
   ]
  },
  {
   "cell_type": "code",
   "execution_count": 8,
   "metadata": {},
   "outputs": [],
   "source": [
    "from sklearn.decomposition import PCA\n",
    "\n",
    "def PCA_Reduction(X, n):\n",
    "    pca = PCA(n_components=n)\n",
    "    X_p = pca.fit_transform(X)\n",
    "    return X_p"
   ]
  },
  {
   "cell_type": "code",
   "execution_count": 9,
   "metadata": {},
   "outputs": [
    {
     "name": "stdout",
     "output_type": "stream",
     "text": [
      "The text length is: 52088\n",
      "The label length is: 52088\n"
     ]
    }
   ],
   "source": [
    "# Calculate the Labels\n",
    "\n",
    "print('The text length is:', len(all_text_words))\n",
    "\n",
    "label = np.asarray([1 for i in range(0, len(vp))] + [2 for i in range(0, len(ps))] + [3 for i in range(0, len(nl))] + [\n",
    "            4 for i in range(0, len(na))] + [5 for i in range(0, len(vn))])\n",
    "\n",
    "print('The label length is:', len(label))"
   ]
  },
  {
   "cell_type": "markdown",
   "metadata": {},
   "source": [
    "#### Model Experiment"
   ]
  },
  {
   "cell_type": "code",
   "execution_count": 10,
   "metadata": {},
   "outputs": [
    {
     "name": "stdout",
     "output_type": "stream",
     "text": [
      "Bag of words representation for ngrams range:  (1, 1)\n",
      "[[0 0 0 ... 0 0 0]\n",
      " [0 0 0 ... 0 0 0]\n",
      " [0 0 0 ... 0 0 0]\n",
      " ...\n",
      " [0 0 0 ... 0 0 0]\n",
      " [0 0 0 ... 0 0 0]\n",
      " [0 0 0 ... 0 0 0]]\n",
      "(52088, 90753)\n",
      "(52088,)\n",
      "The vacabulary length is 90753\n"
     ]
    }
   ],
   "source": [
    "from sklearn.naive_bayes     import MultinomialNB\n",
    "from sklearn.model_selection import train_test_split, StratifiedKFold\n",
    "from sklearn.metrics         import confusion_matrix\n",
    "\n",
    "X, y = get_bag_of_words((1,1))\n",
    "\n",
    "vocab_size = X.shape[1]\n",
    "print(X)\n",
    "print(X.shape)\n",
    "print(y.shape)\n",
    "print(f\"The vacabulary length is {vocab_size}\")\n"
   ]
  },
  {
   "cell_type": "markdown",
   "metadata": {},
   "source": [
    "#### TFIDF/Normalization"
   ]
  },
  {
   "cell_type": "code",
   "execution_count": 11,
   "metadata": {},
   "outputs": [],
   "source": [
    "from sklearn.feature_extraction.text import TfidfTransformer\n",
    "\n",
    "def TFIDF_transform(data):\n",
    "    tfidf_transformer = TfidfTransformer()\n",
    "    data_features_tfidf = tfidf_transformer.fit_transform(data)\n",
    "    data_mat = data_features_tfidf.toarray()\n",
    "    return data_mat\n"
   ]
  },
  {
   "cell_type": "markdown",
   "metadata": {},
   "source": [
    "Since the memory limitation, we only use half of the total data to do the bag of words in the notebook and the result using the whole dataset will be included in another file"
   ]
  },
  {
   "cell_type": "code",
   "execution_count": 12,
   "metadata": {},
   "outputs": [
    {
     "name": "stdout",
     "output_type": "stream",
     "text": [
      "The shape after random choice: (2000, 90753)\n",
      "(2000, 90753)\n",
      "1600\n",
      "400\n"
     ]
    }
   ],
   "source": [
    "import numpy as np\n",
    "random_list = np.random.choice(X.shape[0], 2000, replace = False)\n",
    "X = X[random_list, :]\n",
    "y = y[random_list]\n",
    "print('The shape after random choice:', X.shape)\n",
    "\n",
    "\n",
    "X_train, X_test, y_train, y_test = train_test_split(X, y, train_size = 0.8, stratify = y, random_state = 123)\n",
    "\n",
    "X_train_TFIDF = TFIDF_transform(X_train)\n",
    "X_test_TFIDF  = TFIDF_transform(X_test)\n",
    "\n",
    "X_train = PCA_Reduction(X_train, 50)\n",
    "X_test  = PCA_Reduction(X_test,  50)\n",
    "\n",
    "X_train_TFIDF = PCA_Reduction(X_train_TFIDF, 50)\n",
    "X_test_TFIDF = PCA_Reduction(X_test_TFIDF,50)\n",
    "\n",
    "print(X.shape)\n",
    "print(len(X_train))\n",
    "print(len(X_test))"
   ]
  },
  {
   "cell_type": "markdown",
   "metadata": {},
   "source": [
    "Besides the PCA feature reduction, we can also use the TFIDF to modify the word vectors because the TFIDF can measure the relative importance of a word within a document, in the context of multiple documents."
   ]
  },
  {
   "cell_type": "markdown",
   "metadata": {},
   "source": [
    "#### Define the confusion matrix plot funcion"
   ]
  },
  {
   "cell_type": "code",
   "execution_count": 13,
   "metadata": {},
   "outputs": [],
   "source": [
    "import seaborn as sns\n",
    "import matplotlib.pyplot as plt\n",
    "def plot_heatmap(cm): \n",
    "    plt.figure(figsize = (6,4))\n",
    "    sns.heatmap(cm, annot=True, cmap='Blues')"
   ]
  },
  {
   "cell_type": "markdown",
   "metadata": {},
   "source": [
    "### Part 3: Models Experiments"
   ]
  },
  {
   "cell_type": "markdown",
   "metadata": {},
   "source": [
    "#### Naive Bayes"
   ]
  },
  {
   "cell_type": "code",
   "execution_count": 14,
   "metadata": {},
   "outputs": [
    {
     "name": "stdout",
     "output_type": "stream",
     "text": [
      "The confusion matrix is:\n",
      " [[11 11  8 14  7]\n",
      " [ 6 18  6 11  3]\n",
      " [50 64 35 60 40]\n",
      " [ 3  6  5  6  7]\n",
      " [ 5 11  3  4  6]]\n",
      "The accuracy is:  19.0 %\n",
      "The precision is: 25.8 %\n"
     ]
    },
    {
     "data": {
      "image/png": "[encoded data removed]",
      "text/plain": [
       "<Figure size 432x288 with 2 Axes>"
      ]
     },
     "metadata": {
      "needs_background": "light"
     },
     "output_type": "display_data"
    }
   ],
   "source": [
    "from sklearn.naive_bayes     import MultinomialNB, GaussianNB\n",
    "from sklearn.model_selection import train_test_split,StratifiedKFold\n",
    "from sklearn.metrics         import confusion_matrix, precision_score\n",
    "\n",
    "# X_train, X_test, y_train, y_test = train_test_split(X, y,test_size=0.8,random_state=123)\n",
    "\n",
    "naive      = GaussianNB()\n",
    "\n",
    "classifier = naive.fit(X_train,y_train)\n",
    "\n",
    "predict    = classifier.predict(X_test)\n",
    "cm         = confusion_matrix(predict,y_test)\n",
    "print('The confusion matrix is:\\n', cm)\n",
    "\n",
    "print('The accuracy is: ', 100.0*np.sum(np.diag(cm))/np.sum(cm), '%')\n",
    "precision = precision_score(y_test, predict, average='weighted')\n",
    "print(\"The precision is:\", np.round(100.0*precision,1), '%')\n",
    "plot_heatmap(cm)"
   ]
  },
  {
   "cell_type": "markdown",
   "metadata": {},
   "source": [
    "Now, we get the very first model of the sentiment dataset using naive bayes. Notice the diagnol of the confusion matrix present the true positives of our prediction."
   ]
  },
  {
   "cell_type": "code",
   "execution_count": 15,
   "metadata": {},
   "outputs": [
    {
     "name": "stdout",
     "output_type": "stream",
     "text": [
      "The confusion matrix is:\n",
      " [[23 25 14 22 14]\n",
      " [ 5  8  2  8  6]\n",
      " [ 7 22 17 12  5]\n",
      " [ 6 19 10 11  4]\n",
      " [34 36 14 42 34]]\n",
      "The accuracy is:  23.25 %\n",
      "The precision is: 24.4 %\n"
     ]
    },
    {
     "data": {
      "image/png": "[encoded data removed]",
      "text/plain": [
       "<Figure size 432x288 with 2 Axes>"
      ]
     },
     "metadata": {
      "needs_background": "light"
     },
     "output_type": "display_data"
    }
   ],
   "source": [
    "naive      = GaussianNB()\n",
    "\n",
    "classifier = naive.fit(X_train_TFIDF,y_train)\n",
    "\n",
    "predict    = classifier.predict(X_test_TFIDF)\n",
    "cm         = confusion_matrix(predict,y_test)\n",
    "print('The confusion matrix is:\\n', cm)\n",
    "\n",
    "print('The accuracy is: ', 100.0*np.sum(np.diag(cm))/np.sum(cm), '%')\n",
    "precision = precision_score(y_test, predict, average='weighted')\n",
    "print(\"The precision is:\", np.round(100.0*precision,1), '%')\n",
    "plot_heatmap(cm)"
   ]
  },
  {
   "cell_type": "markdown",
   "metadata": {},
   "source": [
    "We can retrain the model by TFIDF before the PCA feature reduction. you can see the performance of the model slightly increases."
   ]
  },
  {
   "cell_type": "markdown",
   "metadata": {},
   "source": [
    "#### Logistic Regression"
   ]
  },
  {
   "cell_type": "markdown",
   "metadata": {},
   "source": [
    "Another basic model is the logistic regression which is simple but robust."
   ]
  },
  {
   "cell_type": "code",
   "execution_count": 16,
   "metadata": {},
   "outputs": [
    {
     "name": "stdout",
     "output_type": "stream",
     "text": [
      "The confusion matrix is:\n",
      " [[11 13  6 11  8]\n",
      " [37 57 25 49 24]\n",
      " [ 6  9 13  5  2]\n",
      " [20 28  8 23 22]\n",
      " [ 1  3  5  7  7]]\n",
      "The accuracy is:  27.75 %\n",
      "The precision is: 27.9 %\n"
     ]
    },
    {
     "data": {
      "image/png": "[encoded data removed]",
      "text/plain": [
       "<Figure size 432x288 with 2 Axes>"
      ]
     },
     "metadata": {
      "needs_background": "light"
     },
     "output_type": "display_data"
    }
   ],
   "source": [
    "from sklearn.linear_model import LogisticRegression\n",
    "\n",
    "LogReg = LogisticRegression()\n",
    "\n",
    "classifier = LogReg.fit(X_train_TFIDF,y_train)\n",
    "\n",
    "predict    = classifier.predict(X_test_TFIDF)\n",
    "cm         = confusion_matrix(predict,y_test)\n",
    "print('The confusion matrix is:\\n', cm)\n",
    "\n",
    "print('The accuracy is: ', 100.0*np.sum(np.diag(cm))/np.sum(cm), '%')\n",
    "precision = precision_score(y_test, predict, average='weighted')\n",
    "print(\"The precision is:\", np.round(100.0*precision,1), '%')\n",
    "plot_heatmap(cm)"
   ]
  },
  {
   "cell_type": "markdown",
   "metadata": {},
   "source": [
    "We can see that the final accucary improves slightly. However, these three basic models' performances are quite bad which means they underfit the sentiment dataset. In other words, these models are too simple and can't fit the training set. If we want to get higher accuracy on the test set, some other models with more complicated structures can help."
   ]
  },
  {
   "cell_type": "markdown",
   "metadata": {},
   "source": [
    "#### LSTM recurrent neutral network"
   ]
  },
  {
   "cell_type": "markdown",
   "metadata": {},
   "source": [
    "First, let us transform the data into pytorch form in order to train and test"
   ]
  },
  {
   "cell_type": "code",
   "execution_count": 17,
   "metadata": {},
   "outputs": [
    {
     "name": "stdout",
     "output_type": "stream",
     "text": [
      "                                          OriginalTweet           Sentiment\n",
      "0     Blue Dart Express reduces retail tariff prices...            Negative\n",
      "1     #G20 need to co-operate and assure global food...            Positive\n",
      "2     There have been chaotic scenes at some superma...  Extremely Negative\n",
      "3     Asian businesses Pakistani Indian amp Banglade...            Negative\n",
      "4     Pre this was considered a gag gift Post this i...  Extremely Positive\n",
      "...                                                 ...                 ...\n",
      "1995  Was at the grocery store. No fruits and vegeta...  Extremely Negative\n",
      "1996  GMD @MKKyari: \"We decided that fuel subsidy/un...  Extremely Positive\n",
      "1997  @LidlGB It's all well and good having a websit...            Negative\n",
      "1998  People know to look for credit card skimmers o...            Negative\n",
      "1999  Dear God, Please stop this CoronaVirus Outbrea...            Positive\n",
      "\n",
      "[2000 rows x 2 columns]\n",
      "Processed Batch 0 :  2001 / 2001 Lines\n",
      "The size of vocabulary is: 8786\n",
      "Adding tokens for padding <pad> at position [0], and missing <missing> at position [1]\n",
      "Initializing:  twitter_sentiment/train_simple.jsonl\n",
      "Initializing:  twitter_sentiment/test_simple.jsonl\n",
      "Processed Batch 1 :  2001 / 41157 Lines\n"
     ]
    }
   ],
   "source": [
    "importlib.reload(utils)\n",
    "LOAD.random_choice_csv('twitter_sentiment/compress_train.csv', 'twitter_sentiment/simple.csv', 2000)\n",
    "\n",
    "utils.csvToJsonl(source_file      = 'twitter_sentiment/simple.csv', \n",
    "                 destination_file = 'twitter_sentiment/simple.jsonl', \n",
    "                 batch_size       = 10000, \n",
    "                 verbose          = True)\n",
    "\n",
    "utils.get_vocab_batches('twitter_sentiment/simple.jsonl', 'twitter_sentiment/vocabulary_simple.jsonl', 2000)\n",
    "vocabulary = utils.prepareVocabulary(vocab_json = 'twitter_sentiment/vocabulary_simple.jsonl', remove_less_than = 1)\n",
    "\n",
    "utils.splitFile( file       = 'twitter_sentiment/simple.jsonl',\n",
    "                 splits     = {'train'     :{'percentage':80},\n",
    "                               'test'      :{'percentage':20}},\n",
    "                batch_size  = 10000,\n",
    "                random_seed = 99,\n",
    "                verbose     = True\n",
    "               )"
   ]
  },
  {
   "cell_type": "markdown",
   "metadata": {},
   "source": [
    "Then, we need to update the vocabulary using the pre-trained gloves embeddings to convert sentences to word vectors"
   ]
  },
  {
   "cell_type": "code",
   "execution_count": 18,
   "metadata": {},
   "outputs": [],
   "source": [
    "importlib.reload(utils)\n",
    "glove_embeddings = utils.loadEmbeddings(path          = 'twitter_sentiment/glove.6B.50d.txt', \n",
    "                                        vocabulary    = vocabulary, \n",
    "                                        embedding_dim = 50)"
   ]
  },
  {
   "cell_type": "markdown",
   "metadata": {},
   "source": [
    "Next, we set up the LSTM hyper parameters."
   ]
  },
  {
   "cell_type": "code",
   "execution_count": 19,
   "metadata": {},
   "outputs": [
    {
     "name": "stdout",
     "output_type": "stream",
     "text": [
      "vocab length is  8788\n",
      "LSTM(\n",
      "  (embedding): Embedding(8788, 50)\n",
      "  (lstm): LSTM(50, 32, num_layers=2, dropout=0.2)\n",
      "  (fc): Linear(in_features=32, out_features=1, bias=True)\n",
      "  (act): Sigmoid()\n",
      ")\n",
      "The model has 458,633 trainable parameters\n"
     ]
    }
   ],
   "source": [
    "from LR import LSTM, AllData, train, test\n",
    "import torch.nn as nn\n",
    "import torch.nn.functional as F\n",
    "import torch.utils.data as data\n",
    "import torch.backends.cudnn as cudnn\n",
    "import torch.optim as optim\n",
    "from torch.utils.data import DataLoader\n",
    "import torch\n",
    "from torch.autograd import Variable\n",
    "\n",
    "num_hidden_nodes   = 32\n",
    "num_output_nodes   = 1\n",
    "num_layers         = 2\n",
    "bidirectional      = False\n",
    "dropout            = 0.2\n",
    "size_of_vocab      = len(vocabulary)\n",
    "print(\"vocab length is \", size_of_vocab)\n",
    "embeddings         = glove_embeddings\n",
    "embedding_dim      = glove_embeddings.size()[1]\n",
    "\n",
    "model = LSTM(size_of_vocab, embedding_dim,embeddings,num_hidden_nodes,\n",
    "                   num_output_nodes, num_layers, bidirectional = bidirectional, dropout = dropout)\n",
    "optimizer       = optim.Adam(model.parameters())\n",
    "criterion       = nn.BCELoss()\n",
    "device    = torch.device('cuda' if torch.cuda.is_available() else 'cpu')  \n",
    "model     = model.to(device)\n",
    "criterion = criterion.to(device)\n",
    "\n",
    "print(model)\n",
    "importlib.reload(utils)\n",
    "print(f'The model has {utils.count_parameters(model):,} trainable parameters')"
   ]
  },
  {
   "cell_type": "code",
   "execution_count": 20,
   "metadata": {},
   "outputs": [
    {
     "name": "stdout",
     "output_type": "stream",
     "text": [
      "0  train loss: 2.055147911408435\n",
      "0  test loss: 2.005940065678827\n",
      "10  train loss: 1.7725300999068518\n",
      "10  test loss: 1.7336168309716349\n",
      "20  train loss: 1.2308101864082108\n",
      "20  test loss: 1.2948009265045044\n",
      "30  train loss: 0.514065454941164\n",
      "30  test loss: 0.607161063001447\n",
      "40  train loss: 0.5622501251916715\n",
      "40  test loss: 0.46341954923687007\n",
      "50  train loss: 0.15602314885593727\n",
      "50  test loss: 0.19792623117593983\n",
      "60  train loss: 0.567858618685383\n",
      "60  test loss: 0.27242536258730404\n",
      "70  train loss: 0.2665889094673815\n",
      "70  test loss: 0.19303299945180102\n",
      "80  train loss: 0.05501967291267986\n",
      "80  test loss: 0.221737825639953\n",
      "90  train loss: 0.0775566438451047\n",
      "90  test loss: 0.16694493087788714\n",
      "100  train loss: 0.025718820598208403\n",
      "100  test loss: 0.018597513636414802\n",
      "110  train loss: 0.06188528504902747\n",
      "110  test loss: 0.0399142779641323\n",
      "120  train loss: 0.010989173616893874\n",
      "120  test loss: 0.04046421080176146\n",
      "130  train loss: 0.05369389983042412\n",
      "130  test loss: 0.017192984099874666\n",
      "140  train loss: 0.0033132474447632758\n",
      "140  test loss: 0.01171424145746904\n",
      "The training loss is: 0.023705255234990043\n",
      "The test loss is: 0.013858913025810332\n"
     ]
    },
    {
     "data": {
      "image/png": "[encoded data removed]",
      "text/plain": [
       "<Figure size 1152x432 with 2 Axes>"
      ]
     },
     "metadata": {
      "needs_background": "light"
     },
     "output_type": "display_data"
    }
   ],
   "source": [
    "from LR import LSTM, AllData, train, test\n",
    "import math\n",
    "\n",
    "Train_loss, Test_loss = [],[]\n",
    "train_acc, test_acc = 0, 0\n",
    "for ep in range(150):\n",
    "    train_loss, train_acc = train(ep, model, optimizer, criterion, bidirectional, vocabulary)\n",
    "    test_loss, test_acc  = test(ep, model, optimizer, criterion, bidirectional, vocabulary)\n",
    "    \n",
    "    Train_loss.append(math.exp(train_loss))\n",
    "    Test_loss.append(math.exp(test_loss))\n",
    "print('The training loss is:', Train_loss[-1])\n",
    "print('The test loss is:', Test_loss[-1])\n",
    "\n",
    "\n",
    "import matplotlib.pyplot as plt\n",
    "fig, axs = plt.subplots(1,2, sharey=True, figsize=(16,6))\n",
    "axs[0].plot(range(len(Train_loss)), Train_loss, label = 'training acc: '+str(train_acc)+'%')\n",
    "axs[0].set_xlabel('epochs')\n",
    "axs[0].set_ylabel('losses')\n",
    "axs[0].legend()\n",
    "\n",
    "axs[1].plot(range(len(Test_loss)), Test_loss, label = 'test acc: '+str(test_acc)+'%')\n",
    "axs[1].set_xlabel('epochs')\n",
    "axs[1].set_ylabel('losses')\n",
    "axs[1].legend()\n",
    "\n",
    "plt.show()"
   ]
  },
  {
   "cell_type": "markdown",
   "metadata": {},
   "source": [
    "From the training and validation plots, we can see that both datasets converges after about 100 epochs. And the accuracy on the test set reaches about 45\\% which is much better than the Naive Bayes and Logstic regression models that we used."
   ]
  },
  {
   "cell_type": "markdown",
   "metadata": {},
   "source": [
    "#### LSTM bidirectional recurrent neutral network"
   ]
  },
  {
   "cell_type": "markdown",
   "metadata": {},
   "source": [
    "The classical LSTM network acts like reading through texts, but we can use a bidirectional LSTM to train our model and it will utilize the words order information again to improve the result."
   ]
  },
  {
   "cell_type": "code",
   "execution_count": 21,
   "metadata": {},
   "outputs": [
    {
     "name": "stdout",
     "output_type": "stream",
     "text": [
      "vocab length is  8788\n",
      "LSTM(\n",
      "  (embedding): Embedding(8788, 50)\n",
      "  (lstm): LSTM(50, 32, num_layers=2, dropout=0.1, bidirectional=True)\n",
      "  (fc): Linear(in_features=64, out_features=1, bias=True)\n",
      "  (act): Sigmoid()\n",
      ")\n",
      "The model has 486,057 trainable parameters\n"
     ]
    }
   ],
   "source": [
    "from LR import LSTM, AllData, train, test\n",
    "import torch.nn as nn\n",
    "import torch.nn.functional as F\n",
    "import torch.utils.data as data\n",
    "import torch.backends.cudnn as cudnn\n",
    "import torch.optim as optim\n",
    "from torch.utils.data import DataLoader\n",
    "import torch\n",
    "from torch.autograd import Variable\n",
    "\n",
    "num_hidden_nodes   = 32\n",
    "num_output_nodes   = 1\n",
    "num_layers         = 2\n",
    "bidirectional      = True\n",
    "dropout            = 0.1\n",
    "size_of_vocab      = len(vocabulary)\n",
    "print(\"vocab length is \", size_of_vocab)\n",
    "embeddings         = glove_embeddings\n",
    "embedding_dim      = glove_embeddings.size()[1]\n",
    "\n",
    "model = LSTM(size_of_vocab, embedding_dim,embeddings,num_hidden_nodes,\n",
    "                   num_output_nodes, num_layers, bidirectional = bidirectional, dropout = dropout)\n",
    "optimizer       = optim.Adam(model.parameters())\n",
    "criterion       = nn.BCEWithLogitsLoss()\n",
    "device    = torch.device('cuda' if torch.cuda.is_available() else 'cpu')  \n",
    "model     = model.to(device)\n",
    "criterion = criterion.to(device)\n",
    "\n",
    "print(model)\n",
    "importlib.reload(utils)\n",
    "print(f'The model has {utils.count_parameters(model):,} trainable parameters')"
   ]
  },
  {
   "cell_type": "code",
   "execution_count": 22,
   "metadata": {},
   "outputs": [
    {
     "name": "stdout",
     "output_type": "stream",
     "text": [
      "0  train loss: 1.4835973312665434\n",
      "0  test loss: 1.3194037062326307\n",
      "10  train loss: 1.4864427486533862\n",
      "10  test loss: 1.2158844431325462\n",
      "20  train loss: 1.3167201261671642\n",
      "20  test loss: 1.2688452680925368\n",
      "30  train loss: 0.9883847702009166\n",
      "30  test loss: 0.9879616935583935\n",
      "40  train loss: 0.7994865782721993\n",
      "40  test loss: 1.2031506540262682\n",
      "50  train loss: 1.022066240740124\n",
      "50  test loss: 0.9062234978800888\n",
      "60  train loss: 0.8850838058738283\n",
      "60  test loss: 1.2212110182867826\n",
      "70  train loss: 0.8533932185501875\n",
      "70  test loss: 1.0922099217687002\n",
      "80  train loss: 0.7632583266978454\n",
      "80  test loss: 1.052273212653045\n",
      "90  train loss: 0.8561668976230683\n",
      "90  test loss: 0.9986474275972371\n",
      "100  train loss: 0.9135122530491495\n",
      "100  test loss: 0.9796679861947459\n",
      "110  train loss: 1.0236587382235953\n",
      "110  test loss: 1.016280886658337\n",
      "120  train loss: 0.8657029544022437\n",
      "120  test loss: 0.9362807354227309\n",
      "130  train loss: 0.9800814065700604\n",
      "130  test loss: 0.9477812224506862\n",
      "140  train loss: 0.75784197580684\n",
      "140  test loss: 0.781431924739843\n",
      "The training loss is: 0.9099229151887135\n",
      "The test loss is: 0.7777437020872113\n"
     ]
    },
    {
     "data": {
      "image/png": "[encoded data removed]",
      "text/plain": [
       "<Figure size 1152x432 with 2 Axes>"
      ]
     },
     "metadata": {
      "needs_background": "light"
     },
     "output_type": "display_data"
    }
   ],
   "source": [
    "from LR import LSTM, AllData, train, test\n",
    "import math\n",
    "\n",
    "Train_loss, Test_loss = [],[]\n",
    "train_acc, test_acc = 0, 0\n",
    "for ep in range(150):\n",
    "    train_loss, train_acc = train(ep, model, optimizer, criterion, bidirectional, vocabulary)\n",
    "    test_loss, test_acc  = test(ep, model, optimizer, criterion, bidirectional, vocabulary)\n",
    "    \n",
    "    Train_loss.append(math.exp(train_loss))\n",
    "    Test_loss.append(math.exp(test_loss))\n",
    "print('The training loss is:', Train_loss[-1])\n",
    "print('The test loss is:', Test_loss[-1])\n",
    "\n",
    "\n",
    "import matplotlib.pyplot as plt\n",
    "fig, axs = plt.subplots(1,2, sharey=True, figsize=(16,6))\n",
    "axs[0].plot(range(len(Train_loss)), Train_loss, label = 'training acc: '+str(train_acc)+'%')\n",
    "axs[0].set_xlabel('epochs')\n",
    "axs[0].set_ylabel('losses')\n",
    "axs[0].legend()\n",
    "\n",
    "axs[1].plot(range(len(Test_loss)), Test_loss, label = 'test acc: '+str(test_acc)+'%')\n",
    "axs[1].set_xlabel('epochs')\n",
    "axs[1].set_ylabel('losses')\n",
    "axs[1].legend()\n",
    "\n",
    "plt.show()"
   ]
  },
  {
   "cell_type": "markdown",
   "metadata": {},
   "source": [
    "From the result of the bidirectional LSTM, we can see that the test accuracy improves from 42\\% to 46\\%, but the losses are higher than the single directional LSTM. One possible reason is that the bidirectional LSTM is more complicated which can better fit the dataset but will increase the losses."
   ]
  },
  {
   "cell_type": "markdown",
   "metadata": {},
   "source": [
    "#### Word Sentiment features"
   ]
  },
  {
   "cell_type": "markdown",
   "metadata": {},
   "source": [
    "By now, we used the statistical models to train and test the dataset. However, we have not explored the prior knowledge of words or phrases. So let's insert the word sentiments as new features and feed them into the models."
   ]
  },
  {
   "cell_type": "code",
   "execution_count": 23,
   "metadata": {},
   "outputs": [],
   "source": [
    "sentiment = {}\n",
    "\n",
    "with open('twitter_sentiment/sentiwordnet.txt', newline = '') as f:                                                                                          \n",
    "\n",
    "    csvreader = csv.reader(f, delimiter='\\t')\n",
    "    \n",
    "    for i, line in enumerate(csvreader):\n",
    "        if i == 0:\n",
    "            headers = line\n",
    "        else:\n",
    "            words = line[4]\n",
    "            for word in words.split():\n",
    "                sentiment[word] = {'PosScore': line[2], 'NegScore': line[3]}"
   ]
  },
  {
   "cell_type": "code",
   "execution_count": 24,
   "metadata": {},
   "outputs": [
    {
     "name": "stdout",
     "output_type": "stream",
     "text": [
      "{'PosScore': '0.875', 'NegScore': '0'}\n"
     ]
    }
   ],
   "source": [
    "print(sentiment['happy#1'])"
   ]
  },
  {
   "cell_type": "markdown",
   "metadata": {},
   "source": [
    "We first include the pretrained sentiment words table and print out the sentiment values (positive and negative) for the vocabulary for example, 'happy'."
   ]
  },
  {
   "cell_type": "code",
   "execution_count": 25,
   "metadata": {},
   "outputs": [],
   "source": [
    "def sentiment_feature_L1(all_text):\n",
    "    senti_sentences = []\n",
    "\n",
    "    for sent in all_text:\n",
    "        words = nltk.word_tokenize(sent)\n",
    "        s = 0\n",
    "        for w in words:\n",
    "            word = w + '#1'\n",
    "            if word in sentiment.keys():\n",
    "                s += float(sentiment[word]['PosScore']) - float(sentiment[word]['NegScore'])\n",
    "        senti_sentences.append(s)\n",
    "    senti_sentences = np.array(senti_sentences)\n",
    "    return senti_sentences\n",
    "\n",
    "def sentiment_feature_L2(all_text):\n",
    "    senti_sentences = []\n",
    "\n",
    "    for sent in all_text:\n",
    "        words = nltk.word_tokenize(sent)\n",
    "        s = 0\n",
    "        for w in words:\n",
    "            word = w + '#1'\n",
    "            if word in sentiment.keys():\n",
    "                s += float(sentiment[word]['PosScore'])**2 - float(sentiment[word]['NegScore'])**2\n",
    "        senti_sentences.append(s)\n",
    "    senti_sentences = np.array(senti_sentences)\n",
    "    return senti_sentences"
   ]
  },
  {
   "cell_type": "markdown",
   "metadata": {},
   "source": [
    "We define 2 different sentiment calculations for each sentence: one is summing up all sentiment values of the wordsin the sentence; the other one is summing up the L2 values instead. Let's view some samples of these 2 sentiment features."
   ]
  },
  {
   "cell_type": "code",
   "execution_count": 26,
   "metadata": {},
   "outputs": [],
   "source": [
    "all_text_sentences = very_pos + pos + neutral + neg + very_neg\n",
    "l1_sentiment = sentiment_feature_L1(all_text_sentences)\n",
    "l2_sentiment = sentiment_feature_L2(all_text_sentences)"
   ]
  },
  {
   "cell_type": "code",
   "execution_count": 27,
   "metadata": {},
   "outputs": [
    {
     "name": "stdout",
     "output_type": "stream",
     "text": [
      "---------------------------------\n",
      "The sample l1 sentiments for sentences are\n",
      " [ 0.5    0.25   0.75   1.375 -0.5    0.75   0.875  0.    -0.875 -0.125\n",
      "  0.    -0.875 -0.375  0.     0.875  1.375  2.625  0.375  0.625  0.875]\n",
      "---------------------------------\n",
      "The sample l2 sentiments for sentences are\n",
      " [ 0.25    0.0625  0.5625  0.8281 -0.5     0.375   0.4844  0.     -0.5156\n",
      "  0.1094  0.     -0.5156 -0.0781  0.      0.3594  0.9531  1.5156  0.1406\n",
      "  0.3906  0.4531]\n"
     ]
    }
   ],
   "source": [
    "print('---------------------------------')\n",
    "print(\"The sample l1 sentiments for sentences are\\n\",l1_sentiment[:20])\n",
    "print('---------------------------------')\n",
    "print(\"The sample l2 sentiments for sentences are\\n\",l2_sentiment[:20])"
   ]
  },
  {
   "cell_type": "markdown",
   "metadata": {},
   "source": [
    "Now, we insert the new features we get into the bag of words generated previously."
   ]
  },
  {
   "cell_type": "code",
   "execution_count": 28,
   "metadata": {},
   "outputs": [],
   "source": [
    "# select 2000 samples corresponding to the bag of words above\n",
    "l1_sent = l1_sentiment[random_list]\n",
    "l2_sent = l2_sentiment[random_list]\n",
    "\n",
    "def merge(X, y, sentiment):\n",
    "    X_new = np.concatenate((X, sentiment[:, None]),axis=1)\n",
    "    X_train, X_test, y_train, y_test = train_test_split(X_new, y, train_size = 0.8, stratify = y, random_state = 123)\n",
    "\n",
    "    X_train_TFIDF = TFIDF_transform(X_train[:,:-1])\n",
    "    X_train_sent = X_train[:,-1]\n",
    "    X_test_TFIDF  = TFIDF_transform(X_test[:,:-1])\n",
    "    X_test_sent = X_test[:,-1]\n",
    "\n",
    "    X_train = PCA_Reduction(X_train_TFIDF, 50)\n",
    "    X_test = PCA_Reduction(X_test_TFIDF,50)\n",
    "    \n",
    "    X_train = np.concatenate((X_train, X_train_sent[:, None]),axis=1)\n",
    "    X_test = np.concatenate((X_test, X_test_sent[:, None]),axis=1)\n",
    "    \n",
    "    return X_train, X_test, y_train, y_test\n"
   ]
  },
  {
   "cell_type": "markdown",
   "metadata": {},
   "source": [
    "#### L1 Sentiment features"
   ]
  },
  {
   "cell_type": "code",
   "execution_count": 29,
   "metadata": {},
   "outputs": [],
   "source": [
    "X_train, X_test, y_train, y_test = merge(X, y, l1_sent)"
   ]
  },
  {
   "cell_type": "code",
   "execution_count": 30,
   "metadata": {},
   "outputs": [
    {
     "name": "stdout",
     "output_type": "stream",
     "text": [
      "The shape of training and test samples are\n",
      "(1600, 51) , (400, 51)\n"
     ]
    }
   ],
   "source": [
    "print(\"The shape of training and test samples are\")\n",
    "print(X_train.shape,',', X_test.shape)"
   ]
  },
  {
   "cell_type": "code",
   "execution_count": 31,
   "metadata": {},
   "outputs": [
    {
     "name": "stdout",
     "output_type": "stream",
     "text": [
      "The l1 sentiment Naive Bayes result\n",
      "---------------------------------\n",
      "The confusion matrix is:\n",
      " [[29 15  9 18 14]\n",
      " [ 0 10  3  8  4]\n",
      " [ 6 22 17 12  5]\n",
      " [10 17  8 11 10]\n",
      " [30 46 20 46 30]]\n",
      "The accuracy is:  24.25 %\n",
      "The precision is: 28.7 %\n"
     ]
    },
    {
     "data": {
      "image/png": "[encoded data removed]",
      "text/plain": [
       "<Figure size 432x288 with 2 Axes>"
      ]
     },
     "metadata": {
      "needs_background": "light"
     },
     "output_type": "display_data"
    }
   ],
   "source": [
    "naive      = GaussianNB()\n",
    "\n",
    "classifier = naive.fit(X_train,y_train)\n",
    "\n",
    "predict_bayes    = classifier.predict(X_test)\n",
    "cm         = confusion_matrix(predict_bayes,y_test)\n",
    "print(\"The l1 sentiment Naive Bayes result\")\n",
    "print(\"---------------------------------\")\n",
    "print('The confusion matrix is:\\n', cm)\n",
    "\n",
    "print('The accuracy is: ', 100.0*np.sum(np.diag(cm))/np.sum(cm), '%')\n",
    "precision = precision_score(y_test, predict_bayes, average='weighted')\n",
    "print(\"The precision is:\", np.round(100.0*precision,1), '%')\n",
    "plot_heatmap(cm)"
   ]
  },
  {
   "cell_type": "code",
   "execution_count": 32,
   "metadata": {},
   "outputs": [
    {
     "name": "stdout",
     "output_type": "stream",
     "text": [
      "The confusion matrix is:\n",
      " [[16  9  5  6  6]\n",
      " [37 57 25 50 26]\n",
      " [ 3  7 13  4  1]\n",
      " [17 31 10 26 19]\n",
      " [ 2  6  4  9 11]]\n",
      "The accuracy is:  30.75 %\n",
      "The precision is: 33.2 %\n"
     ]
    },
    {
     "data": {
      "image/png": "[encoded data removed]",
      "text/plain": [
       "<Figure size 432x288 with 2 Axes>"
      ]
     },
     "metadata": {
      "needs_background": "light"
     },
     "output_type": "display_data"
    }
   ],
   "source": [
    "from sklearn.linear_model import LogisticRegression\n",
    "\n",
    "LogReg = LogisticRegression()\n",
    "\n",
    "classifier = LogReg.fit(X_train,y_train)\n",
    "\n",
    "predict_log    = classifier.predict(X_test)\n",
    "cm         = confusion_matrix(predict_log,y_test)\n",
    "print('The confusion matrix is:\\n', cm)\n",
    "\n",
    "print('The accuracy is: ', 100.0*np.sum(np.diag(cm))/np.sum(cm), '%')\n",
    "precision = precision_score(y_test, predict_log, average='weighted')\n",
    "print(\"The precision is:\", np.round(100.0*precision,1), '%')\n",
    "plot_heatmap(cm)"
   ]
  },
  {
   "cell_type": "markdown",
   "metadata": {},
   "source": [
    "You can see that the result of both Naive Bayes and Logistic Regression improves about 5\\% on test set accuracy."
   ]
  },
  {
   "cell_type": "markdown",
   "metadata": {},
   "source": [
    "#### L2 Sentiment features"
   ]
  },
  {
   "cell_type": "markdown",
   "metadata": {},
   "source": [
    "Now we try our new bag of words on L2 sentiment features."
   ]
  },
  {
   "cell_type": "code",
   "execution_count": 33,
   "metadata": {},
   "outputs": [],
   "source": [
    "X_train, X_test, y_train, y_test = merge(X, y, l2_sent)"
   ]
  },
  {
   "cell_type": "code",
   "execution_count": 34,
   "metadata": {},
   "outputs": [
    {
     "name": "stdout",
     "output_type": "stream",
     "text": [
      "The l1 sentiment Naive Bayes result\n",
      "---------------------------------\n",
      "The confusion matrix is:\n",
      " [[25 16  6 19 14]\n",
      " [ 7 16  5 11  3]\n",
      " [ 7 18 19 11  5]\n",
      " [ 6 25  6  8  5]\n",
      " [30 35 21 46 36]]\n",
      "The accuracy is:  26.0 %\n",
      "The precision is: 28.0 %\n"
     ]
    },
    {
     "data": {
      "image/png": "[encoded data removed]",
      "text/plain": [
       "<Figure size 432x288 with 2 Axes>"
      ]
     },
     "metadata": {
      "needs_background": "light"
     },
     "output_type": "display_data"
    }
   ],
   "source": [
    "naive      = GaussianNB()\n",
    "\n",
    "classifier = naive.fit(X_train,y_train)\n",
    "\n",
    "predict    = classifier.predict(X_test)\n",
    "cm         = confusion_matrix(predict,y_test)\n",
    "print(\"The l1 sentiment Naive Bayes result\")\n",
    "print(\"---------------------------------\")\n",
    "print('The confusion matrix is:\\n', cm)\n",
    "\n",
    "print('The accuracy is: ', 100.0*np.sum(np.diag(cm))/np.sum(cm), '%')\n",
    "precision = precision_score(y_test, predict, average='weighted')\n",
    "print(\"The precision is:\", np.round(100.0*precision,1), '%')\n",
    "plot_heatmap(cm)"
   ]
  },
  {
   "cell_type": "code",
   "execution_count": 35,
   "metadata": {},
   "outputs": [
    {
     "name": "stdout",
     "output_type": "stream",
     "text": [
      "The confusion matrix is:\n",
      " [[17 12  1 10  7]\n",
      " [35 66 27 41 27]\n",
      " [ 2  5 15  5  2]\n",
      " [19 25  8 27 19]\n",
      " [ 2  2  6 12  8]]\n",
      "The accuracy is:  33.25 %\n",
      "The precision is: 34.2 %\n"
     ]
    },
    {
     "data": {
      "image/png": "[encoded data removed]",
      "text/plain": [
       "<Figure size 432x288 with 2 Axes>"
      ]
     },
     "metadata": {
      "needs_background": "light"
     },
     "output_type": "display_data"
    }
   ],
   "source": [
    "from sklearn.linear_model import LogisticRegression\n",
    "\n",
    "LogReg = LogisticRegression()\n",
    "\n",
    "classifier = LogReg.fit(X_train,y_train)\n",
    "\n",
    "predict    = classifier.predict(X_test)\n",
    "cm         = confusion_matrix(predict,y_test)\n",
    "print('The confusion matrix is:\\n', cm)\n",
    "\n",
    "print('The accuracy is: ', 100.0*np.sum(np.diag(cm))/np.sum(cm), '%')\n",
    "precision = precision_score(y_test, predict, average='weighted')\n",
    "print(\"The precision is:\", np.round(100.0*precision,1), '%')\n",
    "plot_heatmap(cm)"
   ]
  },
  {
   "cell_type": "markdown",
   "metadata": {},
   "source": [
    "We can get similar result as L1 sentiment shown above which improves the accuracy on test set."
   ]
  },
  {
   "cell_type": "markdown",
   "metadata": {},
   "source": [
    "#### A brief sum-up \n",
    "\n",
    "<span style=\"text-decoration:underline\">We can see that the Naive Bayes and Logistic regression improve with the semantical features, but the overall accuracy is still low. So we would like to try other classification techniques.</span>"
   ]
  },
  {
   "cell_type": "code",
   "execution_count": 36,
   "metadata": {},
   "outputs": [],
   "source": [
    "X_train, X_test, y_train, y_test = merge(X, y, l1_sent)"
   ]
  },
  {
   "cell_type": "markdown",
   "metadata": {},
   "source": [
    "#### SVM"
   ]
  },
  {
   "cell_type": "code",
   "execution_count": 37,
   "metadata": {},
   "outputs": [
    {
     "name": "stdout",
     "output_type": "stream",
     "text": [
      "The confusion matrix is:\n",
      " [[16  9  1 11  7]\n",
      " [43 76 39 50 24]\n",
      " [ 0  1  4  1  0]\n",
      " [13 23 10 30 24]\n",
      " [ 3  1  3  3  8]]\n",
      "The accuracy is:  33.5 %\n",
      "The precision is: 39.5 %\n"
     ]
    },
    {
     "data": {
      "image/png": "[encoded data removed]",
      "text/plain": [
       "<Figure size 432x288 with 2 Axes>"
      ]
     },
     "metadata": {
      "needs_background": "light"
     },
     "output_type": "display_data"
    }
   ],
   "source": [
    "from sklearn import svm\n",
    "\n",
    "SVM = svm.SVC(decision_function_shape='ovo')\n",
    "\n",
    "classifier = SVM.fit(X_train,y_train)\n",
    "\n",
    "predict_svm    = classifier.predict(X_test)\n",
    "cm         = confusion_matrix(predict_svm,y_test)\n",
    "print('The confusion matrix is:\\n', cm)\n",
    "\n",
    "print('The accuracy is: ', 100.0*np.sum(np.diag(cm))/np.sum(cm), '%')\n",
    "precision = precision_score(y_test, predict_svm, average='weighted')\n",
    "print(\"The precision is:\", np.round(100.0*precision,1), '%')\n",
    "plot_heatmap(cm)"
   ]
  },
  {
   "cell_type": "markdown",
   "metadata": {},
   "source": [
    "#### K Nearest Neighbours"
   ]
  },
  {
   "cell_type": "code",
   "execution_count": 38,
   "metadata": {},
   "outputs": [
    {
     "name": "stdout",
     "output_type": "stream",
     "text": [
      "The confusion matrix is:\n",
      " [[30 34 15 24 12]\n",
      " [10 16  5  9  8]\n",
      " [ 6 11 13  3  5]\n",
      " [12 17 11 14  8]\n",
      " [17 32 13 45 30]]\n",
      "The accuracy is:  25.75 %\n",
      "The precision is: 27.7 %\n"
     ]
    },
    {
     "data": {
      "image/png": "[encoded data removed]",
      "text/plain": [
       "<Figure size 432x288 with 2 Axes>"
      ]
     },
     "metadata": {
      "needs_background": "light"
     },
     "output_type": "display_data"
    }
   ],
   "source": [
    "from sklearn.neighbors import NearestCentroid\n",
    "\n",
    "KNN = NearestCentroid()\n",
    "\n",
    "classifier = KNN.fit(X_train,y_train)\n",
    "\n",
    "predict_knn    = classifier.predict(X_test)\n",
    "cm         = confusion_matrix(predict_knn,y_test)\n",
    "print('The confusion matrix is:\\n', cm)\n",
    "\n",
    "print('The accuracy is: ', 100.0*np.sum(np.diag(cm))/np.sum(cm), '%')\n",
    "precision = precision_score(y_test, predict_knn, average='weighted')\n",
    "print(\"The precision is:\", np.round(100.0*precision,1), '%')\n",
    "plot_heatmap(cm)"
   ]
  },
  {
   "cell_type": "markdown",
   "metadata": {},
   "source": [
    "#### Decision Tree"
   ]
  },
  {
   "cell_type": "code",
   "execution_count": 39,
   "metadata": {},
   "outputs": [
    {
     "name": "stdout",
     "output_type": "stream",
     "text": [
      "The confusion matrix is:\n",
      " [[16 27 16 17 15]\n",
      " [11 25 11 23 17]\n",
      " [13  9  6 12  9]\n",
      " [22 29 14 22 11]\n",
      " [13 20 10 21 11]]\n",
      "The accuracy is:  20.0 %\n",
      "The precision is: 20.6 %\n"
     ]
    },
    {
     "data": {
      "image/png": "[encoded data removed]",
      "text/plain": [
       "<Figure size 432x288 with 2 Axes>"
      ]
     },
     "metadata": {
      "needs_background": "light"
     },
     "output_type": "display_data"
    }
   ],
   "source": [
    "from sklearn import tree\n",
    "\n",
    "DT = tree.DecisionTreeClassifier()\n",
    "\n",
    "classifier = DT.fit(X_train,y_train)\n",
    "\n",
    "predict_dt    = classifier.predict(X_test)\n",
    "cm         = confusion_matrix(predict_dt,y_test)\n",
    "print('The confusion matrix is:\\n', cm)\n",
    "\n",
    "print('The accuracy is: ', 100.0*np.sum(np.diag(cm))/np.sum(cm), '%')\n",
    "precision = precision_score(y_test, predict_dt, average='weighted')\n",
    "print(\"The precision is:\", np.round(100.0*precision,1), '%')\n",
    "plot_heatmap(cm)"
   ]
  },
  {
   "cell_type": "markdown",
   "metadata": {},
   "source": [
    "### Part 4: Ensemble Models"
   ]
  },
  {
   "cell_type": "markdown",
   "metadata": {},
   "source": [
    "There are multiple ways to combine multiple models together.\n",
    "\n",
    "1. Random Forest combines different decision tree, in which every tree has the equal weights to vote for the final prediction of the class.\n",
    "\n",
    "2. Bagging: Directly combine all classifiers together and do the vote.\n",
    "\n",
    "3. Adaboost: Adujst weights for different classifiers, increasing weights for those data incorrectly classified and doing the opposite for correctly classified data step by step."
   ]
  },
  {
   "cell_type": "markdown",
   "metadata": {},
   "source": [
    "#### Random Forest"
   ]
  },
  {
   "cell_type": "code",
   "execution_count": 40,
   "metadata": {},
   "outputs": [
    {
     "name": "stdout",
     "output_type": "stream",
     "text": [
      "The confusion matrix is:\n",
      " [[ 9  9 10 15 12]\n",
      " [36 59 34 60 26]\n",
      " [ 4  5  0  0  1]\n",
      " [21 28 11 14 18]\n",
      " [ 5  9  2  6  6]]\n",
      "The accuracy is:  22.0 %\n",
      "The precision is: 17.6 %\n"
     ]
    },
    {
     "data": {
      "image/png": "[encoded data removed]",
      "text/plain": [
       "<Figure size 432x288 with 2 Axes>"
      ]
     },
     "metadata": {
      "needs_background": "light"
     },
     "output_type": "display_data"
    }
   ],
   "source": [
    "from sklearn.ensemble import RandomForestClassifier\n",
    "\n",
    "RF = RandomForestClassifier(n_estimators=60)\n",
    "\n",
    "classifier = RF.fit(X_train,y_train)\n",
    "\n",
    "predict    = classifier.predict(X_test)\n",
    "cm         = confusion_matrix(predict,y_test)\n",
    "print('The confusion matrix is:\\n', cm)\n",
    "\n",
    "print('The accuracy is: ', 100.0*np.sum(np.diag(cm))/np.sum(cm), '%')\n",
    "precision = precision_score(y_test, predict, average='weighted')\n",
    "print(\"The precision is:\", np.round(100.0*precision,1), '%')\n",
    "plot_heatmap(cm)"
   ]
  },
  {
   "cell_type": "markdown",
   "metadata": {},
   "source": [
    "#### Bagging\n",
    "\n",
    "Combine SVM, KNN and DT classifiers together."
   ]
  },
  {
   "cell_type": "code",
   "execution_count": 41,
   "metadata": {},
   "outputs": [
    {
     "name": "stdout",
     "output_type": "stream",
     "text": [
      "The confusion matrix is:\n",
      " [[19 22  8 13 10]\n",
      " [20 42 25 25 18]\n",
      " [ 6  4  7  3  5]\n",
      " [22 24  7 20 11]\n",
      " [ 8 18 10 34 19]]\n",
      "The accuracy is:  26.75 %\n",
      "The precision is: 26.8 %\n"
     ]
    },
    {
     "data": {
      "image/png": "[encoded data removed]",
      "text/plain": [
       "<Figure size 432x288 with 2 Axes>"
      ]
     },
     "metadata": {
      "needs_background": "light"
     },
     "output_type": "display_data"
    }
   ],
   "source": [
    "pred = []\n",
    "for i in range(len(predict_knn)):\n",
    "    vol = [predict_knn[i], predict_svm[i], predict_dt[i]]\n",
    "    idx = np.random.choice(len(vol), 1)[0]\n",
    "    pred.append(vol[idx])\n",
    "\n",
    "cm         = confusion_matrix(pred, y_test)\n",
    "print('The confusion matrix is:\\n', cm)\n",
    "\n",
    "print('The accuracy is: ', 100.0*np.sum(np.diag(cm))/np.sum(cm), '%')\n",
    "precision = precision_score(y_test, pred, average='weighted')\n",
    "print(\"The precision is:\", np.round(100.0*precision,1), '%')\n",
    "plot_heatmap(cm)"
   ]
  },
  {
   "cell_type": "markdown",
   "metadata": {},
   "source": [
    "#### Adaboost"
   ]
  },
  {
   "cell_type": "code",
   "execution_count": 42,
   "metadata": {},
   "outputs": [
    {
     "name": "stdout",
     "output_type": "stream",
     "text": [
      "The confusion matrix is:\n",
      " [[12 11  2 15  4]\n",
      " [21 47 26 39 14]\n",
      " [17 19 11 16  7]\n",
      " [13 22 12 14 18]\n",
      " [12 11  6 11 20]]\n",
      "The accuracy is:  26.0 %\n",
      "The precision is: 25.6 %\n"
     ]
    },
    {
     "data": {
      "image/png": "[encoded data removed]",
      "text/plain": [
       "<Figure size 432x288 with 2 Axes>"
      ]
     },
     "metadata": {
      "needs_background": "light"
     },
     "output_type": "display_data"
    }
   ],
   "source": [
    "from sklearn.ensemble import AdaBoostClassifier\n",
    "\n",
    "Ada = AdaBoostClassifier(n_estimators=30)\n",
    "\n",
    "classifier = Ada.fit(X_train,y_train)\n",
    "\n",
    "predict    = classifier.predict(X_test)\n",
    "cm         = confusion_matrix(predict,y_test)\n",
    "print('The confusion matrix is:\\n', cm)\n",
    "\n",
    "print('The accuracy is: ', 100.0*np.sum(np.diag(cm))/np.sum(cm), '%')\n",
    "precision = precision_score(y_test, predict, average='weighted')\n",
    "print(\"The precision is:\", np.round(100.0*precision,1), '%')\n",
    "plot_heatmap(cm)"
   ]
  },
  {
   "cell_type": "markdown",
   "metadata": {},
   "source": [
    "#### Brief Summary\n",
    "The ensemble methods are expected to perform better than most single models expect neutral network. However, we have not seen such improvement. On possible reason is that the words order is quite important bu the bag of words discard it. All ensemble methods share the disadvantages."
   ]
  },
  {
   "cell_type": "markdown",
   "metadata": {},
   "source": [
    "### Part 5: Conclusion"
   ]
  },
  {
   "cell_type": "markdown",
   "metadata": {},
   "source": [
    "- By now, we test the classical unsupervised learning techniques like Naive Bayes or Logistic Regression, as well as the LSTM (single and bidirectional) models. Meanwhile, we build a hybrid model which combines the unsupervised learning techniques and the word sentiment knowledge.\n",
    "\n",
    "- We can see the obvious improvement by give word sentiment features to the unsupervised models. But the LSTM models we experiment do better because it includes the words order information which is discarded by the bag of words."
   ]
  },
  {
   "cell_type": "code",
   "execution_count": null,
   "metadata": {},
   "outputs": [],
   "source": []
  },
  {
   "cell_type": "code",
   "execution_count": null,
   "metadata": {},
   "outputs": [],
   "source": []
  },
  {
   "cell_type": "code",
   "execution_count": null,
   "metadata": {},
   "outputs": [],
   "source": []
  },
  {
   "cell_type": "code",
   "execution_count": null,
   "metadata": {},
   "outputs": [],
   "source": []
  },
  {
   "cell_type": "code",
   "execution_count": null,
   "metadata": {},
   "outputs": [],
   "source": []
  },
  {
   "cell_type": "code",
   "execution_count": null,
   "metadata": {},
   "outputs": [],
   "source": [
    " "
   ]
  }
 ],
 "metadata": {
  "kernelspec": {
   "display_name": "Python 3",
   "language": "python",
   "name": "python3"
  },
  "language_info": {
   "codemirror_mode": {
    "name": "ipython",
    "version": 3
   },
   "file_extension": ".py",
   "mimetype": "text/x-python",
   "name": "python",
   "nbconvert_exporter": "python",
   "pygments_lexer": "ipython3",
   "version": "3.8.6"
  }
 },
 "nbformat": 4,
 "nbformat_minor": 4
}
